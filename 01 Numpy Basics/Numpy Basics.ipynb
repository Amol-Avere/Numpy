{
 "cells": [
  {
   "cell_type": "code",
   "execution_count": 6,
   "metadata": {},
   "outputs": [],
   "source": [
    "import numpy as np"
   ]
  },
  {
   "cell_type": "code",
   "execution_count": 7,
   "metadata": {},
   "outputs": [
    {
     "data": {
      "text/plain": [
       "array([1, 2, 3, 4, 5, 6, 7, 8])"
      ]
     },
     "execution_count": 7,
     "metadata": {},
     "output_type": "execute_result"
    }
   ],
   "source": [
    "a= np.array([1,2,3,4,5,6,7,8])\n",
    "a"
   ]
  },
  {
   "cell_type": "code",
   "execution_count": 8,
   "metadata": {},
   "outputs": [],
   "source": [
    "b= np.array([[7, 1, 0],\n",
    "       [0, 3, 1],\n",
    "       [1, 0, 0],\n",
    "       [0, 1, 0],\n",
    "       [2, 2, 1],\n",
    "       [3, 0, 3]])"
   ]
  },
  {
   "cell_type": "code",
   "execution_count": 9,
   "metadata": {},
   "outputs": [
    {
     "data": {
      "text/plain": [
       "array([[7, 0, 1, 0, 2, 3],\n",
       "       [1, 3, 0, 1, 2, 0],\n",
       "       [0, 1, 0, 0, 1, 3]])"
      ]
     },
     "execution_count": 9,
     "metadata": {},
     "output_type": "execute_result"
    }
   ],
   "source": [
    "# Transpose of the ndarray\n",
    "b.transpose()"
   ]
  },
  {
   "cell_type": "code",
   "execution_count": 10,
   "metadata": {},
   "outputs": [
    {
     "data": {
      "text/plain": [
       "array([[1, 2],\n",
       "       [3, 4],\n",
       "       [5, 6],\n",
       "       [7, 8]])"
      ]
     },
     "execution_count": 10,
     "metadata": {},
     "output_type": "execute_result"
    }
   ],
   "source": [
    "# Reshaping ndarray\n",
    "# You should consider size of orginal array and the one you are reshaping must be same.\n",
    "\n",
    "a.reshape(4,2)"
   ]
  },
  {
   "cell_type": "code",
   "execution_count": 11,
   "metadata": {},
   "outputs": [
    {
     "data": {
      "text/plain": [
       "array([[1, 2, 3, 4],\n",
       "       [5, 6, 7, 8],\n",
       "       [1, 2, 3, 4],\n",
       "       [5, 6, 7, 8]])"
      ]
     },
     "execution_count": 11,
     "metadata": {},
     "output_type": "execute_result"
    }
   ],
   "source": [
    "# Resize\n",
    "# Rearrange does not need to have same size as the size of original array\n",
    "# syntax np.resize(array,(size))\n",
    "np.resize(a,(4,4))"
   ]
  },
  {
   "cell_type": "code",
   "execution_count": 12,
   "metadata": {},
   "outputs": [
    {
     "data": {
      "text/plain": [
       "array([[1, 2, 3, 4, 5, 6, 7, 8],\n",
       "       [1, 2, 3, 4, 5, 6, 7, 8],\n",
       "       [1, 2, 3, 4, 5, 6, 7, 8],\n",
       "       [1, 2, 3, 4, 5, 6, 7, 8],\n",
       "       [1, 2, 3, 4, 5, 6, 7, 8],\n",
       "       [1, 2, 3, 4, 5, 6, 7, 8]])"
      ]
     },
     "execution_count": 12,
     "metadata": {},
     "output_type": "execute_result"
    }
   ],
   "source": [
    "# Broadcast_to\n",
    "# make sure you must have same column as the orginal array\n",
    "np.broadcast_to(a,(6,8))"
   ]
  },
  {
   "cell_type": "code",
   "execution_count": 13,
   "metadata": {},
   "outputs": [
    {
     "data": {
      "text/plain": [
       "array([[[7, 1, 0],\n",
       "        [0, 3, 1],\n",
       "        [1, 0, 0],\n",
       "        [0, 1, 0],\n",
       "        [2, 2, 1],\n",
       "        [3, 0, 3]],\n",
       "\n",
       "       [[7, 1, 0],\n",
       "        [0, 3, 1],\n",
       "        [1, 0, 0],\n",
       "        [0, 1, 0],\n",
       "        [2, 2, 1],\n",
       "        [3, 0, 3]]])"
      ]
     },
     "execution_count": 13,
     "metadata": {},
     "output_type": "execute_result"
    }
   ],
   "source": [
    "# ndarray while broadcasting make sure rows as well as column should be in same order \n",
    "# e.g in below example 6x3 \n",
    "np.broadcast_to(b,(2,6,3))"
   ]
  },
  {
   "cell_type": "markdown",
   "metadata": {},
   "source": [
    "Expanding and squeezing dimensions\n",
    "expand_dims and squeeze can be used to add or remove dimensions from an array."
   ]
  },
  {
   "cell_type": "code",
   "execution_count": 14,
   "metadata": {},
   "outputs": [
    {
     "data": {
      "text/plain": [
       "array([[7, 0, 1, 0, 2, 3],\n",
       "       [1, 3, 0, 1, 2, 0],\n",
       "       [0, 1, 0, 0, 1, 3]])"
      ]
     },
     "execution_count": 14,
     "metadata": {},
     "output_type": "execute_result"
    }
   ],
   "source": [
    "b=b.transpose()\n",
    "b"
   ]
  },
  {
   "cell_type": "code",
   "execution_count": 15,
   "metadata": {},
   "outputs": [
    {
     "data": {
      "text/plain": [
       "array([[[7, 0, 1, 0, 2, 3]],\n",
       "\n",
       "       [[1, 3, 0, 1, 2, 0]],\n",
       "\n",
       "       [[0, 1, 0, 0, 1, 3]]])"
      ]
     },
     "execution_count": 15,
     "metadata": {},
     "output_type": "execute_result"
    }
   ],
   "source": [
    "# Expand the shape of an array by inserting axis \n",
    "np.expand_dims(b,axis=1)"
   ]
  },
  {
   "cell_type": "code",
   "execution_count": 16,
   "metadata": {},
   "outputs": [
    {
     "data": {
      "text/plain": [
       "array([[7, 0, 1, 0, 2, 3],\n",
       "       [1, 3, 0, 1, 2, 0],\n",
       "       [0, 1, 0, 0, 1, 3]])"
      ]
     },
     "execution_count": 16,
     "metadata": {},
     "output_type": "execute_result"
    }
   ],
   "source": [
    "np.squeeze(b)"
   ]
  },
  {
   "cell_type": "markdown",
   "metadata": {},
   "source": [
    "Concatenating and stacking\n",
    "concatenate and stack can be used to join multiple arrays into one. concatenate joins arrays along an existing axis, thereby, \n",
    "the total number of dimensions stays the same. stack on the other hand, creates a new dimension. The arrays must have the same shape."
   ]
  },
  {
   "cell_type": "code",
   "execution_count": 17,
   "metadata": {},
   "outputs": [
    {
     "data": {
      "text/plain": [
       "array([[12,  5,  6,  5,  7,  8],\n",
       "       [ 6,  8,  5,  6,  7,  5],\n",
       "       [ 5,  6,  5,  5,  6,  8]])"
      ]
     },
     "execution_count": 17,
     "metadata": {},
     "output_type": "execute_result"
    }
   ],
   "source": [
    "c= b+5\n",
    "c"
   ]
  },
  {
   "cell_type": "code",
   "execution_count": 18,
   "metadata": {},
   "outputs": [
    {
     "data": {
      "text/plain": [
       "array([[ 7,  0,  1,  0,  2,  3],\n",
       "       [ 1,  3,  0,  1,  2,  0],\n",
       "       [ 0,  1,  0,  0,  1,  3],\n",
       "       [12,  5,  6,  5,  7,  8],\n",
       "       [ 6,  8,  5,  6,  7,  5],\n",
       "       [ 5,  6,  5,  5,  6,  8]])"
      ]
     },
     "execution_count": 18,
     "metadata": {},
     "output_type": "execute_result"
    }
   ],
   "source": [
    "# Vertical concatenation\n",
    "np.concatenate((b,c),axis=0)"
   ]
  },
  {
   "cell_type": "code",
   "execution_count": 19,
   "metadata": {},
   "outputs": [
    {
     "data": {
      "text/plain": [
       "array([[ 7,  0,  1,  0,  2,  3, 12,  5,  6,  5,  7,  8],\n",
       "       [ 1,  3,  0,  1,  2,  0,  6,  8,  5,  6,  7,  5],\n",
       "       [ 0,  1,  0,  0,  1,  3,  5,  6,  5,  5,  6,  8]])"
      ]
     },
     "execution_count": 19,
     "metadata": {},
     "output_type": "execute_result"
    }
   ],
   "source": [
    "# Horizontal Concatenation\n",
    "np.concatenate((b,c),axis=1)"
   ]
  },
  {
   "cell_type": "code",
   "execution_count": 20,
   "metadata": {},
   "outputs": [
    {
     "data": {
      "text/plain": [
       "array([[[ 7,  0,  1,  0,  2,  3],\n",
       "        [ 1,  3,  0,  1,  2,  0],\n",
       "        [ 0,  1,  0,  0,  1,  3]],\n",
       "\n",
       "       [[12,  5,  6,  5,  7,  8],\n",
       "        [ 6,  8,  5,  6,  7,  5],\n",
       "        [ 5,  6,  5,  5,  6,  8]]])"
      ]
     },
     "execution_count": 20,
     "metadata": {},
     "output_type": "execute_result"
    }
   ],
   "source": [
    "#Join arrays along a new axis, 0\n",
    "np.stack((b,c),axis=0)"
   ]
  },
  {
   "cell_type": "code",
   "execution_count": 21,
   "metadata": {},
   "outputs": [
    {
     "data": {
      "text/plain": [
       "array([[[ 7,  0,  1,  0,  2,  3],\n",
       "        [12,  5,  6,  5,  7,  8]],\n",
       "\n",
       "       [[ 1,  3,  0,  1,  2,  0],\n",
       "        [ 6,  8,  5,  6,  7,  5]],\n",
       "\n",
       "       [[ 0,  1,  0,  0,  1,  3],\n",
       "        [ 5,  6,  5,  5,  6,  8]]])"
      ]
     },
     "execution_count": 21,
     "metadata": {},
     "output_type": "execute_result"
    }
   ],
   "source": [
    "np.stack((b,c),axis=1)"
   ]
  },
  {
   "cell_type": "markdown",
   "metadata": {},
   "source": [
    "Splitting\n",
    "split, hsplit (horizontal split) and vsplit (vertical split) can be used to split an array into equal-sized subarrays."
   ]
  },
  {
   "cell_type": "code",
   "execution_count": 22,
   "metadata": {},
   "outputs": [
    {
     "data": {
      "text/plain": [
       "[array([[7, 0, 1, 0, 2, 3]]),\n",
       " array([[1, 3, 0, 1, 2, 0]]),\n",
       " array([[0, 1, 0, 0, 1, 3]])]"
      ]
     },
     "execution_count": 22,
     "metadata": {},
     "output_type": "execute_result"
    }
   ],
   "source": [
    "np.split(b,3)"
   ]
  },
  {
   "cell_type": "code",
   "execution_count": 23,
   "metadata": {},
   "outputs": [
    {
     "data": {
      "text/plain": [
       "[array([[12,  5,  6,  5,  7,  8]]),\n",
       " array([[6, 8, 5, 6, 7, 5]]),\n",
       " array([[5, 6, 5, 5, 6, 8]])]"
      ]
     },
     "execution_count": 23,
     "metadata": {},
     "output_type": "execute_result"
    }
   ],
   "source": [
    "np.split(c,3)"
   ]
  },
  {
   "cell_type": "code",
   "execution_count": 24,
   "metadata": {},
   "outputs": [
    {
     "data": {
      "text/plain": [
       "[array([[12,  5],\n",
       "        [ 6,  8],\n",
       "        [ 5,  6]]), array([[6, 5],\n",
       "        [5, 6],\n",
       "        [5, 5]]), array([[7, 8],\n",
       "        [7, 5],\n",
       "        [6, 8]])]"
      ]
     },
     "execution_count": 24,
     "metadata": {},
     "output_type": "execute_result"
    }
   ],
   "source": [
    "np.split(c,3,axis=1)"
   ]
  },
  {
   "cell_type": "code",
   "execution_count": 25,
   "metadata": {},
   "outputs": [
    {
     "data": {
      "text/plain": [
       "array([[7, 0, 1, 0, 2, 3],\n",
       "       [1, 3, 0, 1, 2, 0],\n",
       "       [0, 1, 0, 0, 1, 3]])"
      ]
     },
     "execution_count": 25,
     "metadata": {},
     "output_type": "execute_result"
    }
   ],
   "source": [
    "b"
   ]
  },
  {
   "cell_type": "code",
   "execution_count": 26,
   "metadata": {},
   "outputs": [
    {
     "data": {
      "text/plain": [
       "[array([[7, 0],\n",
       "        [1, 3],\n",
       "        [0, 1]]), array([[1, 0],\n",
       "        [0, 1],\n",
       "        [0, 0]]), array([[2, 3],\n",
       "        [2, 0],\n",
       "        [1, 3]])]"
      ]
     },
     "execution_count": 26,
     "metadata": {},
     "output_type": "execute_result"
    }
   ],
   "source": [
    "np.hsplit(b,3)"
   ]
  },
  {
   "cell_type": "markdown",
   "metadata": {},
   "source": [
    "    #Append, insert and delete\n",
    "And finally, append, insert and delete can be used to insert and delete elements from an array (the same way as in Python). \n",
    "append is equivalent to inserting elements to the end of the array."
   ]
  },
  {
   "cell_type": "code",
   "execution_count": 27,
   "metadata": {},
   "outputs": [
    {
     "data": {
      "text/plain": [
       "array([ 1,  2,  3,  4,  5,  6,  7,  8, 11, 12])"
      ]
     },
     "execution_count": 27,
     "metadata": {},
     "output_type": "execute_result"
    }
   ],
   "source": [
    "# append will always apend elements at the end\n",
    "a=np.append(a,[11,12])\n",
    "a"
   ]
  },
  {
   "cell_type": "code",
   "execution_count": 31,
   "metadata": {},
   "outputs": [
    {
     "data": {
      "text/plain": [
       "array([ 1,  2,  3,  0,  0,  4,  5,  6,  7,  8, 11, 12])"
      ]
     },
     "execution_count": 31,
     "metadata": {},
     "output_type": "execute_result"
    }
   ],
   "source": [
    "# If you want to insert element in between array we have to  use insert\n",
    "\n",
    "np.insert(a,3,[0,0])"
   ]
  },
  {
   "cell_type": "code",
   "execution_count": 33,
   "metadata": {},
   "outputs": [
    {
     "data": {
      "text/plain": [
       "array([ 1,  3,  5,  6,  7,  8, 11, 12])"
      ]
     },
     "execution_count": 33,
     "metadata": {},
     "output_type": "execute_result"
    }
   ],
   "source": [
    "# Delete perticular set of elements\n",
    "np.delete(a,[1,3])"
   ]
  },
  {
   "cell_type": "code",
   "execution_count": 34,
   "metadata": {},
   "outputs": [
    {
     "data": {
      "text/plain": [
       "array([ 1,  2,  3,  4,  5,  6,  8, 11, 12])"
      ]
     },
     "execution_count": 34,
     "metadata": {},
     "output_type": "execute_result"
    }
   ],
   "source": [
    "np.delete(a,[6])"
   ]
  },
  {
   "cell_type": "code",
   "execution_count": 36,
   "metadata": {},
   "outputs": [
    {
     "data": {
      "text/plain": [
       "array([[7, 0, 1, 0, 2, 3],\n",
       "       [1, 3, 0, 1, 2, 0],\n",
       "       [0, 1, 0, 0, 1, 3]])"
      ]
     },
     "execution_count": 36,
     "metadata": {},
     "output_type": "execute_result"
    }
   ],
   "source": [
    "b"
   ]
  },
  {
   "cell_type": "code",
   "execution_count": 37,
   "metadata": {},
   "outputs": [
    {
     "data": {
      "text/plain": [
       "array([[12,  5,  6,  5,  7,  8],\n",
       "       [ 6,  8,  5,  6,  7,  5],\n",
       "       [ 5,  6,  5,  5,  6,  8]])"
      ]
     },
     "execution_count": 37,
     "metadata": {},
     "output_type": "execute_result"
    }
   ],
   "source": [
    "c"
   ]
  },
  {
   "cell_type": "code",
   "execution_count": 35,
   "metadata": {},
   "outputs": [
    {
     "data": {
      "text/plain": [
       "array([[19,  5,  7,  5,  9, 11],\n",
       "       [ 7, 11,  5,  7,  9,  5],\n",
       "       [ 5,  7,  5,  5,  7, 11]])"
      ]
     },
     "execution_count": 35,
     "metadata": {},
     "output_type": "execute_result"
    }
   ],
   "source": [
    "# Element wise operation\n",
    "b+c\n",
    "# also can use method np.add(b,c)"
   ]
  },
  {
   "cell_type": "code",
   "execution_count": 39,
   "metadata": {},
   "outputs": [
    {
     "data": {
      "text/plain": [
       "array([[19,  5,  7,  5,  9, 11],\n",
       "       [ 7, 11,  5,  7,  9,  5],\n",
       "       [ 5,  7,  5,  5,  7, 11]])"
      ]
     },
     "execution_count": 39,
     "metadata": {},
     "output_type": "execute_result"
    }
   ],
   "source": [
    "np.add(b,c)"
   ]
  },
  {
   "cell_type": "code",
   "execution_count": 38,
   "metadata": {},
   "outputs": [
    {
     "data": {
      "text/plain": [
       "array([[5, 5, 5, 5, 5, 5],\n",
       "       [5, 5, 5, 5, 5, 5],\n",
       "       [5, 5, 5, 5, 5, 5]])"
      ]
     },
     "execution_count": 38,
     "metadata": {},
     "output_type": "execute_result"
    }
   ],
   "source": [
    "# element wise substraction\n",
    "\n",
    "c-b"
   ]
  },
  {
   "cell_type": "code",
   "execution_count": 40,
   "metadata": {},
   "outputs": [
    {
     "data": {
      "text/plain": [
       "array([[5, 5, 5, 5, 5, 5],\n",
       "       [5, 5, 5, 5, 5, 5],\n",
       "       [5, 5, 5, 5, 5, 5]])"
      ]
     },
     "execution_count": 40,
     "metadata": {},
     "output_type": "execute_result"
    }
   ],
   "source": [
    "np.subtract(c,b)"
   ]
  },
  {
   "cell_type": "code",
   "execution_count": 41,
   "metadata": {},
   "outputs": [
    {
     "data": {
      "text/plain": [
       "array([[84,  0,  6,  0, 14, 24],\n",
       "       [ 6, 24,  0,  6, 14,  0],\n",
       "       [ 0,  6,  0,  0,  6, 24]])"
      ]
     },
     "execution_count": 41,
     "metadata": {},
     "output_type": "execute_result"
    }
   ],
   "source": [
    "b*c"
   ]
  },
  {
   "cell_type": "code",
   "execution_count": 42,
   "metadata": {},
   "outputs": [
    {
     "data": {
      "text/plain": [
       "array([[84,  0,  6,  0, 14, 24],\n",
       "       [ 6, 24,  0,  6, 14,  0],\n",
       "       [ 0,  6,  0,  0,  6, 24]])"
      ]
     },
     "execution_count": 42,
     "metadata": {},
     "output_type": "execute_result"
    }
   ],
   "source": [
    "np.multiply(b,c)"
   ]
  },
  {
   "cell_type": "code",
   "execution_count": 44,
   "metadata": {},
   "outputs": [
    {
     "data": {
      "text/plain": [
       "array([[0.58333333, 0.        , 0.16666667, 0.        , 0.28571429,\n",
       "        0.375     ],\n",
       "       [0.16666667, 0.375     , 0.        , 0.16666667, 0.28571429,\n",
       "        0.        ],\n",
       "       [0.        , 0.16666667, 0.        , 0.        , 0.16666667,\n",
       "        0.375     ]])"
      ]
     },
     "execution_count": 44,
     "metadata": {},
     "output_type": "execute_result"
    }
   ],
   "source": [
    "b/c"
   ]
  },
  {
   "cell_type": "code",
   "execution_count": 45,
   "metadata": {},
   "outputs": [
    {
     "data": {
      "text/plain": [
       "array([[0.58333333, 0.        , 0.16666667, 0.        , 0.28571429,\n",
       "        0.375     ],\n",
       "       [0.16666667, 0.375     , 0.        , 0.16666667, 0.28571429,\n",
       "        0.        ],\n",
       "       [0.        , 0.16666667, 0.        , 0.        , 0.16666667,\n",
       "        0.375     ]])"
      ]
     },
     "execution_count": 45,
     "metadata": {},
     "output_type": "execute_result"
    }
   ],
   "source": [
    "np.divide(b,c)"
   ]
  },
  {
   "cell_type": "markdown",
   "metadata": {},
   "source": [
    "NumPy also includes a number of element-wise operations, such as sqrt (square-root) and log (logarithm)."
   ]
  },
  {
   "cell_type": "code",
   "execution_count": 46,
   "metadata": {},
   "outputs": [
    {
     "data": {
      "text/plain": [
       "array([[2.64575131, 0.        , 1.        , 0.        , 1.41421356,\n",
       "        1.73205081],\n",
       "       [1.        , 1.73205081, 0.        , 1.        , 1.41421356,\n",
       "        0.        ],\n",
       "       [0.        , 1.        , 0.        , 0.        , 1.        ,\n",
       "        1.73205081]])"
      ]
     },
     "execution_count": 46,
     "metadata": {},
     "output_type": "execute_result"
    }
   ],
   "source": [
    "np.sqrt(b)"
   ]
  }
 ],
 "metadata": {
  "kernelspec": {
   "display_name": "Python 3",
   "language": "python",
   "name": "python3"
  },
  "language_info": {
   "codemirror_mode": {
    "name": "ipython",
    "version": 3
   },
   "file_extension": ".py",
   "mimetype": "text/x-python",
   "name": "python",
   "nbconvert_exporter": "python",
   "pygments_lexer": "ipython3",
   "version": "3.7.1"
  }
 },
 "nbformat": 4,
 "nbformat_minor": 2
}
